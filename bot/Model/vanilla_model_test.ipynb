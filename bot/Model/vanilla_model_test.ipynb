{
 "cells": [
  {
   "cell_type": "code",
   "execution_count": 1,
   "metadata": {},
   "outputs": [],
   "source": [
    "import pandas as pd\n",
    "import numpy as np\n",
    "import nltk\n",
    "import string\n",
    "from sklearn.feature_extraction.text import TfidfVectorizer\n",
    "from sklearn.metrics.pairwise import cosine_similarity\n",
    "from nltk.tokenize import word_tokenize\n",
    "from nltk.corpus import stopwords\n",
    "\n",
    "nltk.download('popular', quiet=True) # for downloading packages\n",
    "import warnings\n",
    "\n",
    "# Ignore all warnings\n",
    "warnings.simplefilter(\"ignore\")"
   ]
  },
  {
   "cell_type": "code",
   "execution_count": 2,
   "metadata": {},
   "outputs": [
    {
     "data": {
      "text/html": [
       "<div>\n",
       "<style scoped>\n",
       "    .dataframe tbody tr th:only-of-type {\n",
       "        vertical-align: middle;\n",
       "    }\n",
       "\n",
       "    .dataframe tbody tr th {\n",
       "        vertical-align: top;\n",
       "    }\n",
       "\n",
       "    .dataframe thead th {\n",
       "        text-align: right;\n",
       "    }\n",
       "</style>\n",
       "<table border=\"1\" class=\"dataframe\">\n",
       "  <thead>\n",
       "    <tr style=\"text-align: right;\">\n",
       "      <th></th>\n",
       "      <th>question</th>\n",
       "      <th>answer</th>\n",
       "    </tr>\n",
       "  </thead>\n",
       "  <tbody>\n",
       "    <tr>\n",
       "      <th>0</th>\n",
       "      <td>What type of organism is commonly used in prep...</td>\n",
       "      <td>mesophilic organisms. Mesophiles grow best in ...</td>\n",
       "    </tr>\n",
       "  </tbody>\n",
       "</table>\n",
       "</div>"
      ],
      "text/plain": [
       "                                            question  \\\n",
       "0  What type of organism is commonly used in prep...   \n",
       "\n",
       "                                              answer  \n",
       "0  mesophilic organisms. Mesophiles grow best in ...  "
      ]
     },
     "execution_count": 2,
     "metadata": {},
     "output_type": "execute_result"
    }
   ],
   "source": [
    "# Setting stop words from nltk library to english\n",
    "stopwords = stopwords.words('english')\n",
    "\n",
    "# Reading the dataset\n",
    "df = pd.read_csv('../Dataset/train.csv')\n",
    "df.head(1)"
   ]
  },
  {
   "cell_type": "code",
   "execution_count": 3,
   "metadata": {},
   "outputs": [],
   "source": [
    "# Tokenizing the words\n",
    "def tokenizer(text):\n",
    "    tokens = word_tokenize(text)\n",
    "    tokens = [token.strip() for token in tokens]\n",
    "    return tokens\n",
    "\n",
    "# Cleaning the input (removing punctuations, digits, and converting to lower case)\n",
    "# may not be used\n",
    "def clean_input(input):\n",
    "    input = input.lower()\n",
    "    input = input.translate(str.maketrans('', '', string.digits))\n",
    "    input = input.translate(str.maketrans('', '', string.punctuation))\n",
    "    input = input.strip()\n",
    "    return input\n",
    "\n",
    "# Solving the question using cosine similarity and tfidf vectorizer \n",
    "def solve(question):\n",
    "    vectorizer = TfidfVectorizer(tokenizer=tokenizer, stop_words=stopwords, lowercase=True)\n",
    "    matrix = vectorizer.fit_transform(tuple(df['question']))\n",
    "    question_vector = vectorizer.transform([question])\n",
    "    cos_results = cosine_similarity(question_vector, matrix)\n",
    "    index = np.argmax(cos_results, axis = None)\n",
    "    return cos_results, index\n",
    "\n",
    "# Getting the response \n",
    "def get_response(question):\n",
    "    # question = clean_input(question)\n",
    "    question = question.lower()\n",
    "    similarity_results, index_res = solve(question)\n",
    "    if similarity_results[0, index_res] < 0.65:\n",
    "        return 'I\\'m sorry, I\\'m not able to understand. Could you please attempt again?'\n",
    "    else:\n",
    "        return df['answer'][index_res]"
   ]
  },
  {
   "cell_type": "code",
   "execution_count": 4,
   "metadata": {},
   "outputs": [
    {
     "name": "stdout",
     "output_type": "stream",
     "text": [
      "Question:  What is the least dangerous radioactive decay?\n",
      "Answer:  alpha decay. All radioactive decay is dangerous to living things, but alpha decay is the least dangerous.\n"
     ]
    }
   ],
   "source": [
    "# This cell is for testing\n",
    "# n = int(input(\"Enter the question number: \"))\n",
    "n = 3\n",
    "question = df[['question']].iloc[n].values[0]\n",
    "print(\"Question: \", question)\n",
    "print(\"Answer: \",get_response(question))\n",
    "# it gets the right answer"
   ]
  },
  {
   "cell_type": "code",
   "execution_count": 5,
   "metadata": {},
   "outputs": [
    {
     "name": "stdout",
     "output_type": "stream",
     "text": [
      "I'm sorry, I'm not able to understand. Could you please attempt again?\n"
     ]
    }
   ],
   "source": [
    "# here is an example of not finding an answer\n",
    "print(get_response(\"hello there!\"))"
   ]
  },
  {
   "cell_type": "code",
   "execution_count": 6,
   "metadata": {},
   "outputs": [
    {
     "name": "stdout",
     "output_type": "stream",
     "text": [
      "Question:  What term in biotechnology means a genetically exact copy of an organism?\n",
      "Answer:  I'm sorry, I'm not able to understand. Could you please attempt again?\n"
     ]
    }
   ],
   "source": [
    "# trying to get an asnwer to a question that is not in the dataset\n",
    "df_test = pd.read_csv('../Dataset/test.csv')\n",
    "n_test = 1\n",
    "question = df_test[['question']].iloc[n_test].values[0]\n",
    "print(\"Question: \", question)\n",
    "print(\"Answer: \",get_response(question))\n"
   ]
  },
  {
   "cell_type": "code",
   "execution_count": 7,
   "metadata": {},
   "outputs": [
    {
     "name": "stdout",
     "output_type": "stream",
     "text": [
      "spring. Spring tides occur during the new moon and full moon. The Sun and Moon are in a straight line either on the same side of Earth or on opposite sides. Their gravitational pull combines to cause very high and very low tides. Spring tides have the greatest tidal range.\n"
     ]
    }
   ],
   "source": [
    "# trying to get an asnwer to a made up question that is not in the dataset\n",
    "print(get_response(\"what is the moon ?\"))"
   ]
  },
  {
   "cell_type": "code",
   "execution_count": null,
   "metadata": {},
   "outputs": [],
   "source": []
  }
 ],
 "metadata": {
  "kernelspec": {
   "display_name": "Python 3",
   "language": "python",
   "name": "python3"
  },
  "language_info": {
   "codemirror_mode": {
    "name": "ipython",
    "version": 3
   },
   "file_extension": ".py",
   "mimetype": "text/x-python",
   "name": "python",
   "nbconvert_exporter": "python",
   "pygments_lexer": "ipython3",
   "version": "3.11.4"
  }
 },
 "nbformat": 4,
 "nbformat_minor": 2
}
