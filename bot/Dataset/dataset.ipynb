{
 "cells": [
  {
   "cell_type": "markdown",
   "metadata": {},
   "source": [
    "### Using dataset from https://huggingface.co/datasets/rcherukuri14/science-qa-instructions"
   ]
  },
  {
   "cell_type": "code",
   "execution_count": 1,
   "metadata": {},
   "outputs": [],
   "source": [
    "# from datasets import load_dataset\n",
    "\n",
    "# dataset = load_dataset(\"rcherukuri14/science-qa-instructions\")"
   ]
  },
  {
   "cell_type": "code",
   "execution_count": 1,
   "metadata": {},
   "outputs": [],
   "source": [
    "import pandas as pd\n",
    "pd.set_option('display.max_column', None)\n",
    "pd.set_option('display.max_rows', None)\n",
    "pd.set_option('display.max_seq_items', None)\n",
    "pd.set_option('display.max_colwidth', 500)\n",
    "pd.set_option('expand_frame_repr', True)\n"
   ]
  },
  {
   "cell_type": "code",
   "execution_count": 2,
   "metadata": {},
   "outputs": [
    {
     "name": "stdout",
     "output_type": "stream",
     "text": [
      "Number of rows/questions in the train dataset: 11679\n",
      "Number of rows/questions in the test dataset: 1000\n"
     ]
    }
   ],
   "source": [
    "train_jsonl_file = \"train.jsonl\"\n",
    "test_jsonl_file = \"test.jsonl\"\n",
    "train_csv_file = \"train.csv\"\n",
    "test_csv_file = \"test.csv\"\n",
    "\n",
    "\n",
    "# Read train JSONL file into a pandas DataFrame\n",
    "train_df = pd.read_json(train_jsonl_file, lines=True)\n",
    "\n",
    "# Read test JSONL file into a pandas DataFrame\n",
    "test_df = pd.read_json(test_jsonl_file, lines=True)\n",
    "\n",
    "\n",
    "# Create a copy of the original train DataFrame to save it as a CSV file\n",
    "df = train_df.copy()\n",
    "# Create a new two columns 'question' and 'answer' and extract the text from the 'text' column\n",
    "df[['question', 'answer']] = df['text'].str.extract(r'### Human: (.+?)### Assistant: (.+)', expand=True)\n",
    "df = df.drop('text', axis=1)\n",
    "print(\"Number of rows/questions in the train dataset:\", df.shape[0])\n",
    "df.to_csv(train_csv_file, index=False)\n",
    "\n",
    "df2 = pd.DataFrame(columns=['text'])\n",
    "# Create a new column 'text' with the formatted text\n",
    "df2['text'] = \"human: \" + df['question'] + \"\\n bot: \" + df['answer']\n",
    "\n",
    "# Save the DataFrame to a new CSV file with the 'text' column\n",
    "df2.to_csv('formatted_output.csv', index=False)\n",
    "\n",
    "# Create a copy of the original test DataFrame to save it as a CSV file\n",
    "df = test_df.copy()\n",
    "# Create a new two columns 'question' and 'answer' and extract the text from the 'text' column\n",
    "df[['question', 'answer']] = df['text'].str.extract(r'### Human: (.+?)### Assistant: (.+)', expand=True)\n",
    "df = df.drop('text', axis=1)\n",
    "print(\"Number of rows/questions in the test dataset:\", df.shape[0])\n",
    "df.to_csv(test_csv_file, index=False)"
   ]
  },
  {
   "cell_type": "code",
   "execution_count": 3,
   "metadata": {},
   "outputs": [
    {
     "data": {
      "text/html": [
       "<div>\n",
       "<style scoped>\n",
       "    .dataframe tbody tr th:only-of-type {\n",
       "        vertical-align: middle;\n",
       "    }\n",
       "\n",
       "    .dataframe tbody tr th {\n",
       "        vertical-align: top;\n",
       "    }\n",
       "\n",
       "    .dataframe thead th {\n",
       "        text-align: right;\n",
       "    }\n",
       "</style>\n",
       "<table border=\"1\" class=\"dataframe\">\n",
       "  <thead>\n",
       "    <tr style=\"text-align: right;\">\n",
       "      <th></th>\n",
       "      <th>question</th>\n",
       "      <th>answer</th>\n",
       "    </tr>\n",
       "  </thead>\n",
       "  <tbody>\n",
       "    <tr>\n",
       "      <th>0</th>\n",
       "      <td>Compounds that are capable of accepting electrons, such as o 2 or f2, are called what?</td>\n",
       "      <td>oxidants. Oxidants and Reductants Compounds that are capable of accepting electrons, such as O 2 or F2, are calledoxidants (or oxidizing agents) because they can oxidize other compounds. In the process of accepting electrons, an oxidant is reduced. Compounds that are capable of donating electrons, such as sodium metal or cyclohexane (C6H12), are calledreductants (or reducing agents) because they can cause the reduction of another compound. In the process of donating electrons, a reductant is...</td>\n",
       "    </tr>\n",
       "    <tr>\n",
       "      <th>1</th>\n",
       "      <td>What term in biotechnology means a genetically exact copy of an organism?</td>\n",
       "      <td>clone. But transgenic animals just have one novel gene. What about an animal with a whole new genome? Could a clone , a genetically exact copy of an organism, be developed using techniques associated with biotechnology? It could be argued that human cloning is one of the inevitable outcomes of modern biotechnology. It \"simply\" involves the removal of the nucleus from a somatic cell and its placement into an unfertilized egg cell whose nucleus has either been deactivated or removed. This new ...</td>\n",
       "    </tr>\n",
       "    <tr>\n",
       "      <th>2</th>\n",
       "      <td>Vertebrata are characterized by the presence of what?</td>\n",
       "      <td>backbone. Figure 29.7 Vertebrata are characterized by the presence of a backbone, such as the one that runs through the middle of this fish. All vertebrates are in the Craniata clade and have a cranium. (credit: Ernest V. More; taken at Smithsonian Museum of Natural History, Washington, D.</td>\n",
       "    </tr>\n",
       "    <tr>\n",
       "      <th>3</th>\n",
       "      <td>What is the height above or below sea level called?</td>\n",
       "      <td>elevation. As you know, the surface of Earth is not flat. Some places are high, and some places are low. For example, mountain ranges like the Sierra Nevada in California or the Andes in South America are high above the surrounding areas. An accurate location must take into account the third dimension. Elevation is the height above or below sea level. Sea level refers to the height of the ocean’s surface. This is the midpoint between high and low tide. Sea level can vary from place to place,...</td>\n",
       "    </tr>\n",
       "    <tr>\n",
       "      <th>4</th>\n",
       "      <td>Ice cores, varves and what else indicate the environmental conditions at the time of their creation?</td>\n",
       "      <td>tree rings. Tree rings, ice cores, and varves indicate the environmental conditions at the time they were made.</td>\n",
       "    </tr>\n",
       "  </tbody>\n",
       "</table>\n",
       "</div>"
      ],
      "text/plain": [
       "                                                                                               question  \\\n",
       "0                Compounds that are capable of accepting electrons, such as o 2 or f2, are called what?   \n",
       "1                             What term in biotechnology means a genetically exact copy of an organism?   \n",
       "2                                                 Vertebrata are characterized by the presence of what?   \n",
       "3                                                   What is the height above or below sea level called?   \n",
       "4  Ice cores, varves and what else indicate the environmental conditions at the time of their creation?   \n",
       "\n",
       "                                                                                                                                                                                                                                                                                                                                                                                                                                                                                                                answer  \n",
       "0  oxidants. Oxidants and Reductants Compounds that are capable of accepting electrons, such as O 2 or F2, are calledoxidants (or oxidizing agents) because they can oxidize other compounds. In the process of accepting electrons, an oxidant is reduced. Compounds that are capable of donating electrons, such as sodium metal or cyclohexane (C6H12), are calledreductants (or reducing agents) because they can cause the reduction of another compound. In the process of donating electrons, a reductant is...  \n",
       "1  clone. But transgenic animals just have one novel gene. What about an animal with a whole new genome? Could a clone , a genetically exact copy of an organism, be developed using techniques associated with biotechnology? It could be argued that human cloning is one of the inevitable outcomes of modern biotechnology. It \"simply\" involves the removal of the nucleus from a somatic cell and its placement into an unfertilized egg cell whose nucleus has either been deactivated or removed. This new ...  \n",
       "2                                                                                                                                                                                                                   backbone. Figure 29.7 Vertebrata are characterized by the presence of a backbone, such as the one that runs through the middle of this fish. All vertebrates are in the Craniata clade and have a cranium. (credit: Ernest V. More; taken at Smithsonian Museum of Natural History, Washington, D.  \n",
       "3  elevation. As you know, the surface of Earth is not flat. Some places are high, and some places are low. For example, mountain ranges like the Sierra Nevada in California or the Andes in South America are high above the surrounding areas. An accurate location must take into account the third dimension. Elevation is the height above or below sea level. Sea level refers to the height of the ocean’s surface. This is the midpoint between high and low tide. Sea level can vary from place to place,...  \n",
       "4                                                                                                                                                                                                                                                                                                                                                                                                      tree rings. Tree rings, ice cores, and varves indicate the environmental conditions at the time they were made.  "
      ]
     },
     "execution_count": 3,
     "metadata": {},
     "output_type": "execute_result"
    }
   ],
   "source": [
    "df.head()"
   ]
  },
  {
   "cell_type": "code",
   "execution_count": null,
   "metadata": {},
   "outputs": [],
   "source": []
  }
 ],
 "metadata": {
  "kernelspec": {
   "display_name": "Python 3",
   "language": "python",
   "name": "python3"
  },
  "language_info": {
   "codemirror_mode": {
    "name": "ipython",
    "version": 3
   },
   "file_extension": ".py",
   "mimetype": "text/x-python",
   "name": "python",
   "nbconvert_exporter": "python",
   "pygments_lexer": "ipython3",
   "version": "3.11.4"
  }
 },
 "nbformat": 4,
 "nbformat_minor": 2
}
